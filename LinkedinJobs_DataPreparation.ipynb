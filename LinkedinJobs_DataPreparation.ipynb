{
 "cells": [
  {
   "cell_type": "markdown",
   "id": "0a87d458-77f8-47de-b971-eb8178fd43c5",
   "metadata": {},
   "source": [
    "#### Columns meaning\n",
    "\n",
    "- Co_Nm / Company Name, dType Object\n",
    "- Co_Pg_Lstd / Company Page Listed, dType Bool\n",
    "- Emp_Cnt / Company Employee Count, dType int64\n",
    "- Flw_Cnt / Company Follower Count, dType int64\n",
    "- Job_Ttl / Job Title, dType Object\n",
    "- Job_Desc / Job Description, dtype Object\n",
    "- Is_Supvsr / Is Post a Supervisor Position (Calculated), dType Bool\n",
    "- max_sal / Maximum Salary, dtype Float64\n",
    "- med_sal / Median Salary, dtype Float64\n",
    "- min_sal / Minimum Salary, dtype Float64\n",
    "- py_prd / Pay Period, dtype Category {Not Listed, YEARLY, HOURLY, MONTHLY, Unpaid, WEEKLY, ONCE}\n",
    "- py_lstd / Pay Listed (Calculated), dtype Bool \n",
    "- wrk_typ / Work Type, dtype Category {Full-time, Contract, Part-time, Temporary, Internship, Other, Volunteer}\n",
    "- loc / Job Location, dtype Object\n",
    "- st_code / Job State Code (Calculated), dtype Object\n",
    "- is_remote / Is Job Remote (Calculated), dtype Bool\n",
    "- views / Number of Posting Views, dtype int64\n",
    "- app_typ / Application Type, dtype Category {Offsite Apply, SimpleOnSiteApply, ComplexOnSiteApply}\n",
    "- app_is_off / Is Application Offsite (Calculated), dtype Bool\n",
    "- xp_lvl / Experience Level, dtype Category {Mid-Senior level, Not Listed, Entry level, Associate, Director, Internship, Executive}\n",
    "- domain / Posting Domain, dtype Object\n",
    "- has_post_domain / Has Posting Domain (Calculated), dtype Bool\n",
    "- is_sponsored / Is Sponsored, dtype Bool\n",
    "- base_comp / Has Base Compensation, dtype Bool."
   ]
  },
  {
   "cell_type": "code",
   "execution_count": null,
   "id": "24dbba89-525e-4d5e-b1b4-c08fab3509e6",
   "metadata": {},
   "outputs": [],
   "source": [
    "import pandas as pd\n",
    "import seaborn as sns\n",
    "import matplotlib.pyplot as plt\n",
    "\n",
    "df = pd.read_csv('LinkedinJobsDF.csv')\n",
    "df_tmp = df\n",
    "df.head()"
   ]
  },
  {
   "cell_type": "code",
   "execution_count": null,
   "id": "0cfe4578-9d4f-48c6-a45a-eb2adc2f94fa",
   "metadata": {},
   "outputs": [],
   "source": [
    "df.dtypes"
   ]
  },
  {
   "cell_type": "markdown",
   "id": "1aa5830e-78f4-41ae-98b8-2e5ad928da79",
   "metadata": {},
   "source": [
    "##### todolist\n",
    "1. find data with salary\n",
    "2. calculate salary to month\n",
    "3. recalculate salary with live currency found by web scraping"
   ]
  },
  {
   "cell_type": "code",
   "execution_count": null,
   "id": "77f5fa85-20ec-475f-b04e-ed7c4db6b343",
   "metadata": {},
   "outputs": [],
   "source": [
    "list = pd.unique(df_tmp['loc'])"
   ]
  },
  {
   "cell_type": "code",
   "execution_count": null,
   "id": "d9d07c2a-aeb1-418b-891c-3ae5dec369b1",
   "metadata": {},
   "outputs": [],
   "source": [
    "len(list)"
   ]
  },
  {
   "cell_type": "code",
   "execution_count": null,
   "id": "62b31e17-cfcb-48d4-8777-d200db6aa292",
   "metadata": {},
   "outputs": [],
   "source": [
    "df_tmp1 = df_tmp.loc[df_tmp['med_sal']!=0]\n",
    "\n",
    "df1=df_tmp1.groupby('loc')['Co_Nm'].count().reset_index().sort_values(by='Co_Nm',ascending=False)\n",
    "\n",
    "df1.head(50)"
   ]
  },
  {
   "cell_type": "code",
   "execution_count": null,
   "id": "aeeeb618-c375-4fcb-b18b-4501aab7537f",
   "metadata": {},
   "outputs": [],
   "source": [
    "df_more_than_50_off = df1.loc[(df1['Co_Nm']>50)&(df1['Co_Nm']<800)]"
   ]
  },
  {
   "cell_type": "code",
   "execution_count": null,
   "id": "edaebac4-5efc-4752-ab1c-f951bed825b8",
   "metadata": {},
   "outputs": [],
   "source": [
    "locations = df_more_than_50_off['loc'].tolist()"
   ]
  },
  {
   "cell_type": "code",
   "execution_count": null,
   "id": "e817734f-7d0e-47fd-8fbb-484b9c812677",
   "metadata": {},
   "outputs": [],
   "source": [
    "len(locations)"
   ]
  },
  {
   "cell_type": "code",
   "execution_count": null,
   "id": "e3f4d787-2294-466c-b33d-7ebb9a152ba0",
   "metadata": {},
   "outputs": [],
   "source": [
    "df_med_sal = df_tmp1.loc[df_tmp1['loc'].isin(locations)]"
   ]
  },
  {
   "cell_type": "code",
   "execution_count": null,
   "id": "e0e56143-d3d7-426f-9875-a3d634548d68",
   "metadata": {},
   "outputs": [],
   "source": [
    "df_med_sal[['loc','med_sal','py_prd']].head()"
   ]
  },
  {
   "cell_type": "code",
   "execution_count": null,
   "id": "d651e54e-1aea-41fd-a276-a5a2275785f9",
   "metadata": {},
   "outputs": [],
   "source": []
  }
 ],
 "metadata": {
  "kernelspec": {
   "display_name": "Python 3 (ipykernel)",
   "language": "python",
   "name": "python3"
  },
  "language_info": {
   "codemirror_mode": {
    "name": "ipython",
    "version": 3
   },
   "file_extension": ".py",
   "mimetype": "text/x-python",
   "name": "python",
   "nbconvert_exporter": "python",
   "pygments_lexer": "ipython3",
   "version": "3.12.1"
  }
 },
 "nbformat": 4,
 "nbformat_minor": 5
}
